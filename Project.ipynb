{
 "cells": [
  {
   "cell_type": "code",
   "execution_count": null,
   "id": "169381d9",
   "metadata": {},
   "outputs": [],
   "source": [
    "import numpy as np \n",
    "import pandas as pd\n",
    "import warnings\n",
    "import matplotlib.pyplot as plt\n",
    "import seaborn as sns\n",
    "from scipy.stats import mannwhitneyu\n",
    "from scipy.stats import fisher_exact\n",
    "import statsmodels.api as sm\n",
    "from scipy.stats import norm\n",
    "\n",
    "pd.set_option('display.max_columns', None) # display all columns\n",
    "warnings.filterwarnings('ignore') # ignore warnings"
   ]
  },
  {
   "cell_type": "code",
   "execution_count": null,
   "id": "9af8e3c6",
   "metadata": {},
   "outputs": [],
   "source": [
    "patients = pd.read_csv('Pats.csv')\n",
    "patients.head(10)"
   ]
  },
  {
   "cell_type": "code",
   "execution_count": null,
   "id": "b90beb00",
   "metadata": {},
   "outputs": [],
   "source": [
    "adm_source = pd.read_csv('ICUadmsource.csv')\n",
    "adm_source.head(10)"
   ]
  },
  {
   "cell_type": "code",
   "execution_count": null,
   "id": "65483893",
   "metadata": {},
   "outputs": [],
   "source": [
    "patients['age'].median()"
   ]
  },
  {
   "cell_type": "code",
   "execution_count": null,
   "id": "4b0e63ac",
   "metadata": {},
   "outputs": [],
   "source": [
    "patients['age'].mean()"
   ]
  },
  {
   "cell_type": "code",
   "execution_count": null,
   "id": "bb0cd953",
   "metadata": {},
   "outputs": [],
   "source": [
    "patients[patients['deceased'] == 1]['age'].median()"
   ]
  },
  {
   "cell_type": "code",
   "execution_count": null,
   "id": "50fdd517",
   "metadata": {},
   "outputs": [],
   "source": [
    "patients[patients['deceased'] == 1]['age'].mean()"
   ]
  },
  {
   "cell_type": "code",
   "execution_count": null,
   "id": "6c1f0b78",
   "metadata": {},
   "outputs": [],
   "source": [
    "patients[patients['deceased'] == 0]['age'].median()"
   ]
  },
  {
   "cell_type": "code",
   "execution_count": null,
   "id": "399503a8",
   "metadata": {},
   "outputs": [],
   "source": [
    "patients[patients['deceased'] == 0]['age'].mean()"
   ]
  },
  {
   "cell_type": "code",
   "execution_count": null,
   "id": "37f56062",
   "metadata": {},
   "outputs": [],
   "source": [
    "deceased = patients[patients['deceased'] == 1]['age']\n",
    "alive = patients[patients['deceased'] == 0]['age']\n",
    "\n",
    "u_stat, p_value = mannwhitneyu(deceased, alive)\n",
    "print(f'Mann-Whitney U test p-value: {p_value}')"
   ]
  },
  {
   "cell_type": "code",
   "execution_count": null,
   "id": "c5cfc812",
   "metadata": {},
   "outputs": [],
   "source": [
    "log_reg = sm.Logit(ytrain, Xtrain).fit() \n",
    "print(log_reg.summary())"
   ]
  },
  {
   "cell_type": "code",
   "execution_count": null,
   "id": "0decccb1",
   "metadata": {},
   "outputs": [],
   "source": [
    "adm_source['admitted_from'] = adm_source['admitted_from'].replace({'after ED': 'after ED', 'direct admission': 'direct_admission', 'after hem/onc dep': 'after_hem/onc', 'after another department':'after_another'})"
   ]
  },
  {
   "cell_type": "code",
   "execution_count": null,
   "id": "fc2bae4e",
   "metadata": {},
   "outputs": [],
   "source": [
    "adm_source['admitted_from'].value_counts()"
   ]
  },
  {
   "cell_type": "code",
   "execution_count": null,
   "id": "52e1faa2",
   "metadata": {},
   "outputs": [],
   "source": [
    "adm_source['admitted_from'].value_counts()/1085"
   ]
  },
  {
   "cell_type": "code",
   "execution_count": null,
   "id": "ba66bc4b",
   "metadata": {
    "scrolled": true
   },
   "outputs": [],
   "source": [
    "patients_wsource = pd.merge(patients, adm_source, on='ind')\n",
    "patients_wsource['gender'] = patients_wsource['gender'].replace({'M': 0, 'F': 1})\n",
    "patients_wsource = pd.get_dummies(patients_wsource, columns=['admitted_from'], dtype='int')\n",
    "patients_wsource"
   ]
  },
  {
   "cell_type": "code",
   "execution_count": null,
   "id": "d73c9b41",
   "metadata": {
    "scrolled": true
   },
   "outputs": [],
   "source": [
    "deceased = patients_wsource['deceased']\n",
    "patients_wsource  = patients_wsource.drop(columns=['deceased'])\n",
    "patients_wsource['deceased']=deceased\n",
    "patients_wsource  = patients_wsource.drop(columns=['ind'])\n",
    "patients_wsource"
   ]
  },
  {
   "cell_type": "code",
   "execution_count": null,
   "id": "e009f57f",
   "metadata": {
    "scrolled": true
   },
   "outputs": [],
   "source": [
    "patients_wsource.corrwith(patients_wsource['deceased']).round(2).sort_values(ascending=False)"
   ]
  },
  {
   "cell_type": "code",
   "execution_count": null,
   "id": "b75cde4a",
   "metadata": {},
   "outputs": [],
   "source": [
    "patients_pres = patients_wsource.copy()"
   ]
  },
  {
   "cell_type": "code",
   "execution_count": null,
   "id": "46b0daa5",
   "metadata": {},
   "outputs": [],
   "source": [
    "num_corr_p = patients_pres.corr().round(2)\n",
    "\n",
    "# Correlation Matrix-Heatmap Plot\n",
    "mask = np.zeros_like(num_corr)\n",
    "mask[np.triu_indices_from(mask)] = True # optional, to hide repeat half of the matrix\n",
    "\n",
    "f, ax = plt.subplots(figsize=(25, 15))\n",
    "sns.set(font_scale=1.5) # increase font size\n",
    "\n",
    "ax = sns.heatmap(num_corr_p, mask=mask, annot=True, annot_kws={\"size\": 12}, linewidths=.5, cmap=\"coolwarm\", fmt=\".2f\", ax=ax) # round to 2 decimal places\n",
    "ax.set_title(\"Correlation matrix\", fontsize=20) # add title\n",
    "plt.show()"
   ]
  },
  {
   "cell_type": "code",
   "execution_count": null,
   "id": "72ad8b6b",
   "metadata": {
    "scrolled": true
   },
   "outputs": [],
   "source": [
    "patients_pres  = patients_pres.drop(columns=['admitted_from_after_another'])\n",
    "patients_pres"
   ]
  },
  {
   "cell_type": "code",
   "execution_count": null,
   "id": "9a423703",
   "metadata": {},
   "outputs": [],
   "source": [
    "num_corr_p = patients_pres.corr().round(2)\n",
    "\n",
    "# Correlation Matrix-Heatmap Plot\n",
    "mask = np.zeros_like(num_corr_p)\n",
    "mask[np.triu_indices_from(mask)] = True # optional, to hide repeat half of the matrix\n",
    "\n",
    "f, ax = plt.subplots(figsize=(25, 15))\n",
    "sns.set(font_scale=1.5) # increase font size\n",
    "\n",
    "ax = sns.heatmap(num_corr_p, mask=mask, annot=True, annot_kws={\"size\": 12}, linewidths=.5, cmap=\"coolwarm\", fmt=\".2f\", ax=ax) # round to 2 decimal places\n",
    "ax.set_title(\"Correlation matrix\", fontsize=20) # add title\n",
    "plt.show()"
   ]
  },
  {
   "cell_type": "code",
   "execution_count": null,
   "id": "ea7ac547",
   "metadata": {},
   "outputs": [],
   "source": [
    "model_patients_pres = sm.Logit(patients_pres['deceased'],\n",
    "                         sm.add_constant(patients_pres[['age', 'gender', \n",
    "                                'admitted_from_after ED', 'admitted_from_after_hem/onc', 'admitted_from_direct_admission']]))\n",
    "result_patients_pres = model_patients_pres.fit()\n",
    "print(result_patients_pres.summary())"
   ]
  }
 ],
 "metadata": {
  "kernelspec": {
   "display_name": "Python 3 (ipykernel)",
   "language": "python",
   "name": "python3"
  },
  "language_info": {
   "codemirror_mode": {
    "name": "ipython",
    "version": 3
   },
   "file_extension": ".py",
   "mimetype": "text/x-python",
   "name": "python",
   "nbconvert_exporter": "python",
   "pygments_lexer": "ipython3",
   "version": "3.11.5"
  }
 },
 "nbformat": 4,
 "nbformat_minor": 5
}
